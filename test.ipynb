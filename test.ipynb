{
 "cells": [
  {
   "attachments": {},
   "cell_type": "markdown",
   "metadata": {},
   "source": [
    "CAESAR CIPHER APP"
   ]
  },
  {
   "cell_type": "code",
   "execution_count": 1,
   "metadata": {},
   "outputs": [],
   "source": [
    "from tkinter import *\n",
    "from tkinter import messagebox"
   ]
  },
  {
   "cell_type": "code",
   "execution_count": 1,
   "metadata": {},
   "outputs": [],
   "source": [
    "pencere = Tk()\n",
    " \n",
    "pencere.title(\"www.yazilimbilisim.net\")\n",
    "pencere.geometry(\"400x300\")\n",
    " \n",
    "#grid form çizdirme\n",
    "uygulama = Frame(pencere)\n",
    "uygulama.grid()\n",
    " \n",
    " \n",
    "L1 = Label(uygulama, text=\"Adınızı Girin\")\n",
    "L1.grid(padx=110, pady=10)\n",
    " \n",
    "E1 = Entry(uygulama, bd =2)\n",
    "E1.grid(padx=110, pady=3)\n",
    " \n",
    "#formu çiz\n",
    "pencere.mainloop()"
   ]
  },
  {
   "cell_type": "code",
   "execution_count": 2,
   "metadata": {},
   "outputs": [],
   "source": [
    "# Girilen metni ekrana yazdıran bir yapı !\n",
    "root = Tk()\n",
    "\n",
    "e = Entry(root,width=50)\n",
    "e.pack()\n",
    "e.insert(0,\"Enter clean text ...\")\n",
    "\n",
    "def myClick():\n",
    "    myLabel = Label(root,text=e.get())\n",
    "    myLabel.pack()\n",
    "\n",
    "myButton = Button(root,text=\"Enter something...\",command=myClick)\n",
    "myButton.pack()\n",
    "\n",
    "root.mainloop()"
   ]
  }
 ],
 "metadata": {
  "kernelspec": {
   "display_name": "Python 3",
   "language": "python",
   "name": "python3"
  },
  "language_info": {
   "codemirror_mode": {
    "name": "ipython",
    "version": 3
   },
   "file_extension": ".py",
   "mimetype": "text/x-python",
   "name": "python",
   "nbconvert_exporter": "python",
   "pygments_lexer": "ipython3",
   "version": "3.9.13"
  },
  "orig_nbformat": 4
 },
 "nbformat": 4,
 "nbformat_minor": 2
}
